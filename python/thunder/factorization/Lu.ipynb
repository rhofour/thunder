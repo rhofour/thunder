{
 "metadata": {
  "name": "",
  "signature": "sha256:2c4cf3cdc60d119d64b7c2e05954fcd2825edeb81c3f531b050947c1e7c393cf"
 },
 "nbformat": 3,
 "nbformat_minor": 0,
 "worksheets": [
  {
   "cells": [
    {
     "cell_type": "code",
     "collapsed": false,
     "input": [
      "from thunder import LU, RowMatrix\n",
      "from numpy import arange, cumsum, matrix, array\n",
      "from scipy.linalg import lu\n",
      "from numpy.linalg import inv"
     ],
     "language": "python",
     "metadata": {},
     "outputs": [],
     "prompt_number": 1
    },
    {
     "cell_type": "code",
     "collapsed": false,
     "input": [
      "mediumCase = tsc.makeExample('factor', q=5, p=400, nrows=100)\n",
      "g2 = RowMatrix(sc.parallelize(enumerate(mediumCase.gramian(), 1)))\n",
      "res2, a1, a2, a3, a4, lup1, u2t, l2, lup2 = LU(nb=320).calc(g2)"
     ],
     "language": "python",
     "metadata": {},
     "outputs": [],
     "prompt_number": 2
    },
    {
     "cell_type": "code",
     "collapsed": false,
     "input": [
      "l2\n",
      "l2rekeyed = l2.keysToIndices(10)\n",
      "l2rekeyed.collectKeysAsArray()"
     ],
     "language": "python",
     "metadata": {},
     "outputs": [
      {
       "metadata": {},
       "output_type": "pyout",
       "prompt_number": 9,
       "text": [
        "array([ 10,  11,  12,  13,  14,  15,  16,  17,  18,  19,  20,  21,  22,\n",
        "        23,  24,  25,  26,  27,  28,  29,  30,  31,  32,  33,  34,  35,\n",
        "        36,  37,  38,  39,  40,  41,  42,  43,  44,  45,  46,  47,  48,\n",
        "        49,  50,  51,  52,  53,  54,  55,  56,  57,  58,  59,  60,  61,\n",
        "        62,  63,  64,  65,  66,  67,  68,  69,  70,  71,  72,  73,  74,\n",
        "        75,  76,  77,  78,  79,  80,  81,  82,  83,  84,  85,  86,  87,\n",
        "        88,  89,  90,  91,  92,  93,  94,  95,  96,  97,  98,  99, 100,\n",
        "       101, 102, 103, 104, 105, 106, 107, 108, 109, 110, 111, 112, 113,\n",
        "       114, 115, 116, 117, 118, 119, 120, 121, 122, 123, 124, 125, 126,\n",
        "       127, 128, 129, 130, 131, 132, 133, 134, 135, 136, 137, 138, 139,\n",
        "       140, 141, 142, 143, 144, 145, 146, 147, 148, 149, 150, 151, 152,\n",
        "       153, 154, 155, 156, 157, 158, 159, 160, 161, 162, 163, 164, 165,\n",
        "       166, 167, 168, 169, 170, 171, 172, 173, 174, 175, 176, 177, 178,\n",
        "       179, 180, 181, 182, 183, 184, 185, 186, 187, 188, 189, 190, 191,\n",
        "       192, 193, 194, 195, 196, 197, 198, 199, 200, 201, 202, 203, 204,\n",
        "       205, 206, 207, 208, 209])"
       ]
      }
     ],
     "prompt_number": 9
    },
    {
     "cell_type": "code",
     "collapsed": false,
     "input": [],
     "language": "python",
     "metadata": {},
     "outputs": []
    }
   ],
   "metadata": {}
  }
 ]
}