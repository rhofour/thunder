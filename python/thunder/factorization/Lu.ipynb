{
 "metadata": {
  "name": "",
  "signature": "sha256:a0b9974037ec53efd75237821109b8b938ed3b68574c17f4d06cedd42607caf7"
 },
 "nbformat": 3,
 "nbformat_minor": 0,
 "worksheets": [
  {
   "cells": [
    {
     "cell_type": "code",
     "collapsed": false,
     "input": [
      "from thunder import LU, RowMatrix\n",
      "from numpy import arange, cumsum, matrix, array\n",
      "from scipy.linalg import lu\n",
      "from numpy.linalg import inv"
     ],
     "language": "python",
     "metadata": {},
     "outputs": [],
     "prompt_number": 1
    },
    {
     "cell_type": "code",
     "collapsed": false,
     "input": [
      "a = matrix('0 1 2; 3 4 5; 6 7 8; 9 10 11')\n",
      "a * a.getT()"
     ],
     "language": "python",
     "metadata": {},
     "outputs": [
      {
       "metadata": {},
       "output_type": "pyout",
       "prompt_number": 2,
       "text": [
        "matrix([[  5,  14,  23,  32],\n",
        "        [ 14,  50,  86, 122],\n",
        "        [ 23,  86, 149, 212],\n",
        "        [ 32, 122, 212, 302]])"
       ]
      }
     ],
     "prompt_number": 2
    },
    {
     "cell_type": "code",
     "collapsed": false,
     "input": [
      "arm = RowMatrix(sc.parallelize([(i, array(a[i])) for i in xrange(4)]))\n",
      "x = LU()._times(arm, arm)\n",
      "x.collectValuesAsArray()"
     ],
     "language": "python",
     "metadata": {},
     "outputs": [
      {
       "metadata": {},
       "output_type": "pyout",
       "prompt_number": 3,
       "text": [
        "array([[   5.,   14.,   23.,   32.],\n",
        "       [  14.,   50.,   86.,  122.],\n",
        "       [  23.,   86.,  149.,  212.],\n",
        "       [  32.,  122.,  212.,  302.]])"
       ]
      }
     ],
     "prompt_number": 3
    },
    {
     "cell_type": "code",
     "collapsed": false,
     "input": [
      "mediumCase = tsc.makeExample('factor', q=5, p=400, nrows=100)\n",
      "g2 = RowMatrix(sc.parallelize(enumerate(mediumCase.gramian())))\n",
      "res2, a1, a2, a3, a4, lup1, u2t = LU(nb=320).calc(g2)"
     ],
     "language": "python",
     "metadata": {},
     "outputs": [],
     "prompt_number": 4
    },
    {
     "cell_type": "code",
     "collapsed": false,
     "input": [
      "recreatedA2 = LU()._times(lup1.l, u2t)\n",
      "recreatedA2.rdd = recreatedA2.rdd.sortByKey()\n",
      "sum(sum(abs(recreatedA2.collectValuesAsArray() - a2.collectValuesAsArray())))"
     ],
     "language": "python",
     "metadata": {},
     "outputs": [
      {
       "metadata": {},
       "output_type": "pyout",
       "prompt_number": 5,
       "text": [
        "3.1473657013947332e-10"
       ]
      }
     ],
     "prompt_number": 5
    },
    {
     "cell_type": "code",
     "collapsed": false,
     "input": [],
     "language": "python",
     "metadata": {},
     "outputs": []
    }
   ],
   "metadata": {}
  }
 ]
}