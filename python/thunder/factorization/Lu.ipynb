{
 "metadata": {
  "name": "",
  "signature": "sha256:812815f23217ab8554d748c088101d9d2f6272e4eec6955939a0c9bc512b129f"
 },
 "nbformat": 3,
 "nbformat_minor": 0,
 "worksheets": [
  {
   "cells": [
    {
     "cell_type": "code",
     "collapsed": false,
     "input": [
      "from thunder import LU, RowMatrix\n",
      "from numpy import arange, cumsum, matrix\n",
      "from scipy.linalg import lu\n",
      "from numpy.linalg import inv"
     ],
     "language": "python",
     "metadata": {},
     "outputs": [],
     "prompt_number": 1
    },
    {
     "cell_type": "code",
     "collapsed": false,
     "input": [
      "smallCase = tsc.makeExample('factor')\n",
      "g1 = RowMatrix(sc.parallelize(enumerate(smallCase.gramian())))\n",
      "g1.collectValuesAsArray()"
     ],
     "language": "python",
     "metadata": {},
     "outputs": [
      {
       "metadata": {},
       "output_type": "pyout",
       "prompt_number": 2,
       "text": [
        "array([[ 22.05040737,   3.15119698,  -7.96174378],\n",
        "       [  3.15119698,  12.75601047,  -1.73772219],\n",
        "       [ -7.96174378,  -1.73772219,  15.40254311]])"
       ]
      }
     ],
     "prompt_number": 2
    },
    {
     "cell_type": "code",
     "collapsed": false,
     "input": [
      "res = LU().calc(g1)\n",
      "res.l.collectValuesAsArray()"
     ],
     "language": "python",
     "metadata": {},
     "outputs": [
      {
       "metadata": {},
       "output_type": "pyout",
       "prompt_number": 3,
       "text": [
        "array([[ 1.        ,  0.        ,  0.        ],\n",
        "       [ 0.14290879,  1.        ,  0.        ],\n",
        "       [-0.36107014, -0.04875141,  1.        ]])"
       ]
      }
     ],
     "prompt_number": 3
    },
    {
     "cell_type": "code",
     "collapsed": false,
     "input": [
      "mediumCase = tsc.makeExample('factor', q=5, p=400, nrows=100)\n",
      "g2 = RowMatrix(sc.parallelize(enumerate(mediumCase.gramian(), 42)))\n",
      "res2, a1 = LU(nb=320).calc(g2)\n",
      "res3 = LU(nb=320).calc(a1)\n",
      "res3.l"
     ],
     "language": "python",
     "metadata": {},
     "outputs": [
      {
       "metadata": {},
       "output_type": "pyout",
       "prompt_number": 4,
       "text": [
        "RowMatrix\n",
        "nrecords: None (inspect to compute)\n",
        "dtype: None (inspect to compute)\n",
        "dims: None (inspect to compute)\n",
        "index: None (inspect to compute)\n",
        "ncols: None (inspect to compute)\n",
        "nrows: None (inspect to compute)"
       ]
      }
     ],
     "prompt_number": 4
    },
    {
     "cell_type": "code",
     "collapsed": false,
     "input": [
      "res.p"
     ],
     "language": "python",
     "metadata": {},
     "outputs": [
      {
       "metadata": {},
       "output_type": "pyout",
       "prompt_number": 5,
       "text": [
        "matrix([[ 0.],\n",
        "        [ 1.],\n",
        "        [ 2.]])"
       ]
      }
     ],
     "prompt_number": 5
    },
    {
     "cell_type": "code",
     "collapsed": false,
     "input": [],
     "language": "python",
     "metadata": {},
     "outputs": []
    }
   ],
   "metadata": {}
  }
 ]
}