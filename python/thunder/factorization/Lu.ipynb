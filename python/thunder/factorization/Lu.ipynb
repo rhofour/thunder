{
 "metadata": {
  "name": "",
  "signature": "sha256:fab3f089498d01b9c50cdf74acb99e170478602c1edc2eb15cf2c1eab437f9b2"
 },
 "nbformat": 3,
 "nbformat_minor": 0,
 "worksheets": [
  {
   "cells": [
    {
     "cell_type": "code",
     "collapsed": false,
     "input": [
      "from thunder import LU, RowMatrix\n",
      "from numpy import arange, cumsum, matrix, array, concatenate\n",
      "from scipy.linalg import lu\n",
      "from numpy.linalg import inv"
     ],
     "language": "python",
     "metadata": {},
     "outputs": [],
     "prompt_number": 1
    },
    {
     "cell_type": "code",
     "collapsed": false,
     "input": [
      "mediumCase = tsc.makeExample('factor', q=5, p=400, nrows=100)\n",
      "g2 = RowMatrix(sc.parallelize(enumerate(mediumCase.gramian())))\n",
      "res2 = LU(nb=1000).calc(g2)"
     ],
     "language": "python",
     "metadata": {},
     "outputs": [],
     "prompt_number": 3
    },
    {
     "cell_type": "code",
     "collapsed": false,
     "input": [
      "a = res2._permuteRows(res2.p, g2)\n",
      "a.rdd = a.rdd.sortByKey()\n",
      "b = res2._times(res2.l, res2.ut)\n",
      "b.rdd = b.rdd.sortByKey()\n",
      "sum(sum(abs(a.collectValuesAsArray() - b.collectValuesAsArray()"
     ],
     "language": "python",
     "metadata": {},
     "outputs": [
      {
       "metadata": {},
       "output_type": "pyout",
       "prompt_number": 5,
       "text": [
        "array([[  0.00000000e+00,   0.00000000e+00,   0.00000000e+00, ...,\n",
        "          0.00000000e+00,   0.00000000e+00,   0.00000000e+00],\n",
        "       [  0.00000000e+00,   0.00000000e+00,   0.00000000e+00, ...,\n",
        "          0.00000000e+00,   0.00000000e+00,   0.00000000e+00],\n",
        "       [  0.00000000e+00,   0.00000000e+00,  -1.13686838e-13, ...,\n",
        "          0.00000000e+00,  -2.84217094e-14,   0.00000000e+00],\n",
        "       ..., \n",
        "       [  0.00000000e+00,   0.00000000e+00,   0.00000000e+00, ...,\n",
        "         -2.66453526e-15,   2.84217094e-14,  -5.68434189e-14],\n",
        "       [  0.00000000e+00,   3.55271368e-15,   1.42108547e-14, ...,\n",
        "         -1.06581410e-14,   2.84217094e-14,  -5.68434189e-14],\n",
        "       [  0.00000000e+00,   0.00000000e+00,   0.00000000e+00, ...,\n",
        "         -4.44089210e-15,  -4.26325641e-14,   2.84217094e-14]])"
       ]
      }
     ],
     "prompt_number": 5
    },
    {
     "cell_type": "code",
     "collapsed": false,
     "input": [
      "p, l, u = lu(mediumCase.gramian())\n",
      "sum(sum(abs(p.transpose().dot(mediumCase.gramian()) - l.dot(u))))"
     ],
     "language": "python",
     "metadata": {},
     "outputs": [
      {
       "metadata": {},
       "output_type": "pyout",
       "prompt_number": 3,
       "text": [
        "1.0073921372869693e-08"
       ]
      }
     ],
     "prompt_number": 3
    },
    {
     "cell_type": "code",
     "collapsed": false,
     "input": [
      "a = p.transpose().dot(mediumCase.gramian())\n",
      "b = LU()._permuteRows(p.dot(arange(400)), g2)\n",
      "b.rdd = b.rdd.sortByKey()\n",
      "sum(sum(abs(b.collectValuesAsArray() - a)))"
     ],
     "language": "python",
     "metadata": {},
     "outputs": [
      {
       "metadata": {},
       "output_type": "pyout",
       "prompt_number": 20,
       "text": [
        "1.8885313313177221e-09"
       ]
      }
     ],
     "prompt_number": 20
    },
    {
     "cell_type": "code",
     "collapsed": false,
     "input": [
      "res2.ut.rdd = res2.ut.rdd.sortByKey()\n",
      "res2.ut.collectValuesAsArray()"
     ],
     "language": "python",
     "metadata": {},
     "outputs": [
      {
       "metadata": {},
       "output_type": "pyout",
       "prompt_number": 3,
       "text": [
        "array([[ -6.67917952e+02,   0.00000000e+00,   0.00000000e+00, ...,\n",
        "          0.00000000e+00,   0.00000000e+00,   0.00000000e+00],\n",
        "       [ -7.31946057e+02,   6.97567519e+02,   0.00000000e+00, ...,\n",
        "          0.00000000e+00,   0.00000000e+00,   0.00000000e+00],\n",
        "       [ -3.67333010e+01,   1.15642569e+02,  -6.81048415e+02, ...,\n",
        "          0.00000000e+00,   0.00000000e+00,   0.00000000e+00],\n",
        "       ..., \n",
        "       [ -5.54958253e+01,   3.52018056e+02,  -6.64853128e+02, ...,\n",
        "         -1.02453015e-12,   0.00000000e+00,   0.00000000e+00],\n",
        "       [  5.26247903e+01,  -7.82780904e+01,   5.31806291e+02, ...,\n",
        "          1.05965726e-13,  -1.45668597e-12,   0.00000000e+00],\n",
        "       [  3.16457088e+02,   1.58611297e+02,   3.20967469e+02, ...,\n",
        "         -9.77916891e-13,   2.94269450e-13,   1.74807856e-13]])"
       ]
      }
     ],
     "prompt_number": 3
    },
    {
     "cell_type": "code",
     "collapsed": false,
     "input": [
      "x = LU()._times(res2.l, res2.ut)\n",
      "g2p = LU()._permute(res2.p, g2)"
     ],
     "language": "python",
     "metadata": {},
     "outputs": [],
     "prompt_number": 4
    },
    {
     "cell_type": "code",
     "collapsed": false,
     "input": [
      "sum(sum(abs(LU()._minus(g2p, x).collectValuesAsArray())))"
     ],
     "language": "python",
     "metadata": {},
     "outputs": [
      {
       "metadata": {},
       "output_type": "pyout",
       "prompt_number": 5,
       "text": [
        "18933391.542736828"
       ]
      }
     ],
     "prompt_number": 5
    },
    {
     "cell_type": "code",
     "collapsed": false,
     "input": [
      "max(res2.p)"
     ],
     "language": "python",
     "metadata": {},
     "outputs": [
      {
       "metadata": {},
       "output_type": "pyout",
       "prompt_number": 7,
       "text": [
        "matrix([[ 199.]])"
       ]
      }
     ],
     "prompt_number": 7
    },
    {
     "cell_type": "code",
     "collapsed": false,
     "input": [
      "x = LU()._times(lup1.l, lup1.ut)\n",
      "a1p = LU()._permute(lup1.p, a1)\n",
      "a1p.rdd = a1p.rdd.sortByKey()\n",
      "sum(sum(abs(LU()._minus(a1p, x).collectValuesAsArray())))"
     ],
     "language": "python",
     "metadata": {},
     "outputs": [
      {
       "metadata": {},
       "output_type": "pyout",
       "prompt_number": 17,
       "text": [
        "8518999.7455772273"
       ]
      }
     ],
     "prompt_number": 17
    },
    {
     "cell_type": "code",
     "collapsed": false,
     "input": [
      "LU()._minus(a1p, x).collectValuesAsArray()"
     ],
     "language": "python",
     "metadata": {},
     "outputs": [
      {
       "metadata": {},
       "output_type": "pyout",
       "prompt_number": 10,
       "text": [
        "array([[ 485.03176236,  174.24296674,   43.05163512, ...,   82.51691129,\n",
        "        -121.05789323,  -38.5437404 ],\n",
        "       [ 174.24296674,  888.51380507,  125.2253621 , ..., -136.26641516,\n",
        "         -60.14389798, -270.45723939],\n",
        "       [  43.05163512,  125.2253621 ,  621.61681433, ..., -497.46544009,\n",
        "          58.31846612,  -82.92524639],\n",
        "       ..., \n",
        "       [  82.51691129, -136.26641516, -497.46544009, ...,  646.23369283,\n",
        "         -99.01068344,  -13.15485764],\n",
        "       [-121.05789323,  -60.14389798,   58.31846612, ...,  -99.01068344,\n",
        "         230.36126672,   84.66149907],\n",
        "       [ -38.5437404 , -270.45723939,  -82.92524639, ...,  -13.15485764,\n",
        "          84.66149907,  422.10512884]])"
       ]
      }
     ],
     "prompt_number": 10
    },
    {
     "cell_type": "code",
     "collapsed": false,
     "input": [
      "x.rdd = x.rdd.sortByKey()\n",
      "x.collectValuesAsArray()"
     ],
     "language": "python",
     "metadata": {},
     "outputs": [
      {
       "metadata": {},
       "output_type": "pyout",
       "prompt_number": 16,
       "text": [
        "array([[-667.91795168, -731.9460569 ,  -36.73330095, ..., -178.8212384 ,\n",
        "         249.30623405,  225.11879239],\n",
        "       [ 174.24296674,  888.51380507,  125.2253621 , ..., -136.26641516,\n",
        "         -60.14389798, -270.45723939],\n",
        "       [-361.70995176, -745.47629611, -758.81366666, ...,  541.2690856 ,\n",
        "        -138.8046617 ,  346.82866867],\n",
        "       ..., \n",
        "       [-229.07717525, -300.03890976,  -47.71023754, ...,  -20.85850576,\n",
        "          44.53118401,   82.85768383],\n",
        "       [ 319.73992504,  201.79042771,   85.27813092, ...,   88.34351271,\n",
        "        -126.71054996, -141.99248819],\n",
        "       [ -84.45916618,  128.39882551,  -27.66198475, ..., -106.60124055,\n",
        "          51.46119221,   59.40782545]])"
       ]
      }
     ],
     "prompt_number": 16
    },
    {
     "cell_type": "code",
     "collapsed": false,
     "input": [
      "lup1.l.rdd = lup1.l.rdd.sortByKey()\n",
      "lup1.ut.rdd = lup1.ut.rdd.sortByKey()\n",
      "lup1.l.collectValuesAsArray().dot(lup1.ut.collectValuesAsArray().transpose())"
     ],
     "language": "python",
     "metadata": {},
     "outputs": [
      {
       "metadata": {},
       "output_type": "pyout",
       "prompt_number": 15,
       "text": [
        "array([[-667.91795168, -731.9460569 ,  -36.73330095, ..., -178.8212384 ,\n",
        "         249.30623405,  225.11879239],\n",
        "       [ 174.24296674,  888.51380507,  125.2253621 , ..., -136.26641516,\n",
        "         -60.14389798, -270.45723939],\n",
        "       [-361.70995176, -745.47629611, -758.81366666, ...,  541.2690856 ,\n",
        "        -138.8046617 ,  346.82866867],\n",
        "       ..., \n",
        "       [-229.07717525, -300.03890976,  -47.71023754, ...,  -20.85850576,\n",
        "          44.53118401,   82.85768383],\n",
        "       [ 319.73992504,  201.79042771,   85.27813092, ...,   88.34351271,\n",
        "        -126.71054996, -141.99248819],\n",
        "       [ -84.45916618,  128.39882551,  -27.66198475, ..., -106.60124055,\n",
        "          51.46119221,   59.40782545]])"
       ]
      }
     ],
     "prompt_number": 15
    },
    {
     "cell_type": "code",
     "collapsed": false,
     "input": [],
     "language": "python",
     "metadata": {},
     "outputs": []
    }
   ],
   "metadata": {}
  }
 ]
}