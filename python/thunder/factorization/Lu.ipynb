{
 "metadata": {
  "name": "",
  "signature": "sha256:3352b32c9a4bd0900367d7aa3fda1cf461f1eab0fcd6056081c138bc123dfa63"
 },
 "nbformat": 3,
 "nbformat_minor": 0,
 "worksheets": [
  {
   "cells": [
    {
     "cell_type": "code",
     "collapsed": false,
     "input": [
      "from thunder import LU, RowMatrix\n",
      "from numpy import arange, cumsum, matrix, array, concatenate\n",
      "from scipy.linalg import lu\n",
      "from numpy.linalg import inv"
     ],
     "language": "python",
     "metadata": {},
     "outputs": [],
     "prompt_number": 1
    },
    {
     "cell_type": "code",
     "collapsed": false,
     "input": [
      "mediumCase = tsc.makeExample('factor', q=5, p=400, nrows=100)\n",
      "g2 = RowMatrix(sc.parallelize(enumerate(mediumCase.gramian())))\n",
      "res2 = LU(nb=200).calc(g2)\n",
      "res2 = res2[0]"
     ],
     "language": "python",
     "metadata": {},
     "outputs": [],
     "prompt_number": 7
    },
    {
     "cell_type": "code",
     "collapsed": false,
     "input": [
      "a = res2._permuteRows(res2.p, g2)\n",
      "a.rdd = a.rdd.sortByKey()\n",
      "b = res2._times(res2.l, res2.ut)\n",
      "b.rdd = b.rdd.sortByKey()\n",
      "sum(sum(abs(res2._minus(a, b).collectValuesAsArray())))"
     ],
     "language": "python",
     "metadata": {},
     "outputs": [
      {
       "metadata": {},
       "output_type": "pyout",
       "prompt_number": 8,
       "text": [
        "1.0378087378359879e-07"
       ]
      }
     ],
     "prompt_number": 8
    }
   ],
   "metadata": {}
  }
 ]
}