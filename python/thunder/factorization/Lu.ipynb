{
 "metadata": {
  "name": "",
  "signature": "sha256:e00b2c6985063b860d523181aa61013d25f33059fe906dd07eef94883c83dab2"
 },
 "nbformat": 3,
 "nbformat_minor": 0,
 "worksheets": [
  {
   "cells": [
    {
     "cell_type": "code",
     "collapsed": false,
     "input": [
      "from thunder import LU, RowMatrix\n",
      "from numpy import cumsum, matrix\n",
      "from scipy.linalg import lu\n",
      "from numpy.linalg import inv"
     ],
     "language": "python",
     "metadata": {},
     "outputs": [],
     "prompt_number": 5
    },
    {
     "cell_type": "code",
     "collapsed": false,
     "input": [
      "smallCase = tsc.makeExample('fa')\n",
      "g1 = RowMatrix(sc.parallelize(enumerate(smallCase.gramian())))\n",
      "g1.collectValuesAsArray()"
     ],
     "language": "python",
     "metadata": {},
     "outputs": [
      {
       "metadata": {},
       "output_type": "pyout",
       "prompt_number": 6,
       "text": [
        "array([[ 39.80254478,  20.59975576,  12.94288114],\n",
        "       [ 20.59975576,  56.1129064 ,  12.20839464],\n",
        "       [ 12.94288114,  12.20839464,  84.06946043]])"
       ]
      }
     ],
     "prompt_number": 6
    },
    {
     "cell_type": "code",
     "collapsed": false,
     "input": [
      "res = LU().calc(g1)\n",
      "res.l.collectValuesAsArray()"
     ],
     "language": "python",
     "metadata": {},
     "outputs": [
      {
       "metadata": {},
       "output_type": "pyout",
       "prompt_number": 7,
       "text": [
        "array([[ 1.        ,  0.        ,  0.        ],\n",
        "       [ 0.51754871,  1.        ,  0.        ],\n",
        "       [ 0.32517723,  0.12122415,  1.        ]])"
       ]
      }
     ],
     "prompt_number": 7
    },
    {
     "cell_type": "code",
     "collapsed": false,
     "input": [
      "mediumCase = tsc.makeExample('fa', q=5, p=400, nrows=100)\n",
      "g2 = RowMatrix(sc.parallelize(enumerate(mediumCase.gramian(), 42)))\n",
      "res, a1 = LU(nb=320).calc(g2)\n",
      "res2 = LU(nb=320).calc(a1)\n",
      "res2.l"
     ],
     "language": "python",
     "metadata": {},
     "outputs": [
      {
       "metadata": {},
       "output_type": "pyout",
       "prompt_number": 8,
       "text": [
        "RowMatrix\n",
        "nrecords: None (inspect to compute)\n",
        "dtype: None (inspect to compute)\n",
        "dims: None (inspect to compute)\n",
        "index: None (inspect to compute)\n",
        "ncols: None (inspect to compute)\n",
        "nrows: None (inspect to compute)"
       ]
      }
     ],
     "prompt_number": 8
    },
    {
     "cell_type": "code",
     "collapsed": false,
     "input": [],
     "language": "python",
     "metadata": {},
     "outputs": []
    }
   ],
   "metadata": {}
  }
 ]
}