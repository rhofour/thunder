{
 "metadata": {
  "name": "",
  "signature": "sha256:618c3ce63406c8b64b62161e5c19f0d6bb9581352ccc970b8675f9d9aa96341e"
 },
 "nbformat": 3,
 "nbformat_minor": 0,
 "worksheets": [
  {
   "cells": [
    {
     "cell_type": "code",
     "collapsed": false,
     "input": [
      "from thunder import LU, RowMatrix\n",
      "from numpy import array, cumsum, matrix\n",
      "from scipy.linalg import lu\n",
      "from numpy.linalg import inv"
     ],
     "language": "python",
     "metadata": {},
     "outputs": [],
     "prompt_number": 1
    },
    {
     "cell_type": "code",
     "collapsed": false,
     "input": [
      "sigmas = array([0.01, 0.01, 0.1])\n",
      "smallCase = tsc.makeExample('fa', sigmas=sigmas)\n",
      "g1 = RowMatrix(sc.parallelize(enumerate(smallCase.gramian())))\n",
      "g1.collectValuesAsArray()"
     ],
     "language": "python",
     "metadata": {},
     "outputs": [
      {
       "metadata": {},
       "output_type": "pyout",
       "prompt_number": 2,
       "text": [
        "array([[  2.11327095,  -9.33014162,  -0.45359502],\n",
        "       [ -9.33014162,  41.28601587,   2.0450941 ],\n",
        "       [ -0.45359502,   2.0450941 ,   0.64627441]])"
       ]
      }
     ],
     "prompt_number": 2
    },
    {
     "cell_type": "code",
     "collapsed": false,
     "input": [
      "res = LU().calc(g1)\n",
      "res.l.collectValuesAsArray()"
     ],
     "language": "python",
     "metadata": {},
     "outputs": [
      {
       "metadata": {},
       "output_type": "pyout",
       "prompt_number": 3,
       "text": [
        "array([[ 1.        ,  0.        ,  0.        ],\n",
        "       [ 0.04861609,  1.        ,  0.        ],\n",
        "       [-0.22649934,  0.55666191,  1.        ]])"
       ]
      }
     ],
     "prompt_number": 3
    },
    {
     "cell_type": "code",
     "collapsed": false,
     "input": [
      "mediumCase = tsc.makeExample('fa', q=5, p=400, nrows=100)\n",
      "g2 = RowMatrix(sc.parallelize(enumerate(mediumCase.gramian(), 42)))\n",
      "res, a1 = LU(nb=320).calc(g2)\n",
      "res2 = LU(nb=320).calc(a1)\n",
      "res2.l"
     ],
     "language": "python",
     "metadata": {},
     "outputs": [
      {
       "metadata": {},
       "output_type": "pyout",
       "prompt_number": 7,
       "text": [
        "RowMatrix\n",
        "nrecords: None (inspect to compute)\n",
        "dtype: None (inspect to compute)\n",
        "dims: None (inspect to compute)\n",
        "index: None (inspect to compute)\n",
        "ncols: None (inspect to compute)\n",
        "nrows: None (inspect to compute)"
       ]
      }
     ],
     "prompt_number": 7
    },
    {
     "cell_type": "code",
     "collapsed": false,
     "input": [],
     "language": "python",
     "metadata": {},
     "outputs": []
    }
   ],
   "metadata": {}
  }
 ]
}