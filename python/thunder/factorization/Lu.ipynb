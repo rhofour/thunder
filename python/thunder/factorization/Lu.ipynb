{
 "metadata": {
  "name": "",
  "signature": "sha256:b9a1d0a6172cef4299dffc2b57c23ba289c206bb09720786e010b897c02c3d57"
 },
 "nbformat": 3,
 "nbformat_minor": 0,
 "worksheets": [
  {
   "cells": [
    {
     "cell_type": "code",
     "collapsed": false,
     "input": [
      "from thunder import LU, RowMatrix\n",
      "from numpy import arange, cumsum, matrix, array, concatenate\n",
      "from scipy.linalg import lu\n",
      "from numpy.linalg import inv"
     ],
     "language": "python",
     "metadata": {},
     "outputs": [],
     "prompt_number": 13
    },
    {
     "cell_type": "code",
     "collapsed": false,
     "input": [
      "mediumCase = tsc.makeExample('factor', q=5, p=400, nrows=100)\n",
      "g2 = RowMatrix(sc.parallelize(enumerate(mediumCase.gramian())))\n",
      "res2, a1, a2, a3, a4, lup1, u2t, l2, lup2 = LU(nb=320).calc(g2)"
     ],
     "language": "python",
     "metadata": {},
     "outputs": [],
     "prompt_number": 14
    },
    {
     "cell_type": "code",
     "collapsed": false,
     "input": [
      "res2.ut.rdd = res2.ut.rdd.sortByKey()\n",
      "res2.ut.collectValuesAsArray()"
     ],
     "language": "python",
     "metadata": {},
     "outputs": [
      {
       "metadata": {},
       "output_type": "pyout",
       "prompt_number": 15,
       "text": [
        "array([[  5.73393365e+02,   0.00000000e+00,   0.00000000e+00, ...,\n",
        "          0.00000000e+00,   0.00000000e+00,   0.00000000e+00],\n",
        "       [ -1.72213245e+02,  -7.06072991e+02,   0.00000000e+00, ...,\n",
        "          0.00000000e+00,   0.00000000e+00,   0.00000000e+00],\n",
        "       [  1.73346279e+02,   6.97003720e+01,   1.01161012e+03, ...,\n",
        "          0.00000000e+00,   0.00000000e+00,   0.00000000e+00],\n",
        "       ..., \n",
        "       [  2.78842231e+01,   1.03606257e+02,  -5.89080969e+02, ...,\n",
        "          1.41963879e-12,   0.00000000e+00,   0.00000000e+00],\n",
        "       [ -2.71545661e+02,   4.31214332e+02,  -2.94414082e+02, ...,\n",
        "         -1.05637798e-12,  -7.92460047e-13,   0.00000000e+00],\n",
        "       [  5.78500934e+02,   1.58697106e+02,   1.04264510e+03, ...,\n",
        "          1.08509485e-13,   6.94738070e-13,   8.05313630e-13]])"
       ]
      }
     ],
     "prompt_number": 15
    },
    {
     "cell_type": "code",
     "collapsed": false,
     "input": [
      "x = LU()._times(res2.l, res2.ut)\n",
      "g2p = LU()._permute(res2.p, g2)"
     ],
     "language": "python",
     "metadata": {},
     "outputs": [],
     "prompt_number": 18
    },
    {
     "cell_type": "code",
     "collapsed": false,
     "input": [
      "sum(sum(abs(LU()._minus(g2p, x).collectValuesAsArray())))"
     ],
     "language": "python",
     "metadata": {},
     "outputs": [
      {
       "metadata": {},
       "output_type": "pyout",
       "prompt_number": 19,
       "text": [
        "22246294.350393955"
       ]
      }
     ],
     "prompt_number": 19
    },
    {
     "cell_type": "code",
     "collapsed": false,
     "input": [],
     "language": "python",
     "metadata": {},
     "outputs": []
    }
   ],
   "metadata": {}
  }
 ]
}