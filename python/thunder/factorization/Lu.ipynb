{
 "metadata": {
  "name": "",
  "signature": "sha256:34a4bb5461543cb9a8d315d47d662955c0f8d11b0ebf15cdc8e521d7580e8748"
 },
 "nbformat": 3,
 "nbformat_minor": 0,
 "worksheets": [
  {
   "cells": [
    {
     "cell_type": "code",
     "collapsed": false,
     "input": [
      "from thunder import LU, RowMatrix\n",
      "from numpy import arange, cumsum, matrix, array, concatenate, identity\n",
      "from scipy.linalg import lu\n",
      "from numpy.linalg import inv"
     ],
     "language": "python",
     "metadata": {},
     "outputs": [],
     "prompt_number": 24
    },
    {
     "cell_type": "code",
     "collapsed": false,
     "input": [
      "sys.setrecursionlimit(4000)"
     ],
     "language": "python",
     "metadata": {},
     "outputs": [],
     "prompt_number": 2
    },
    {
     "cell_type": "code",
     "collapsed": false,
     "input": [
      "mediumCase = tsc.makeExample('factor', q=5, p=400, nrows=100)"
     ],
     "language": "python",
     "metadata": {},
     "outputs": [],
     "prompt_number": 68
    },
    {
     "cell_type": "code",
     "collapsed": false,
     "input": [
      "hell = [[100, 200, 300],[400,500,600],[700,801,900]]\n",
      "inv(hell).dot(hell)"
     ],
     "language": "python",
     "metadata": {},
     "outputs": [
      {
       "metadata": {},
       "output_type": "pyout",
       "prompt_number": 65,
       "text": [
        "array([[  1.00000000e+00,   1.13686838e-13,   5.68434189e-14],\n",
        "       [ -1.13686838e-13,   1.00000000e+00,   1.13686838e-13],\n",
        "       [  5.68434189e-14,   0.00000000e+00,   1.00000000e+00]])"
       ]
      }
     ],
     "prompt_number": 65
    },
    {
     "cell_type": "code",
     "collapsed": false,
     "input": [
      "g = RowMatrix(sc.parallelize(enumerate(mediumCase.gramian())))"
     ],
     "language": "python",
     "metadata": {},
     "outputs": [],
     "prompt_number": 69
    },
    {
     "cell_type": "code",
     "collapsed": false,
     "input": [
      "luDecomp = LU().calc(g)"
     ],
     "language": "python",
     "metadata": {},
     "outputs": [],
     "prompt_number": 70
    },
    {
     "cell_type": "code",
     "collapsed": false,
     "input": [
      "uInv, lInvT, p = g.inverse()"
     ],
     "language": "python",
     "metadata": {},
     "outputs": [],
     "prompt_number": 71
    },
    {
     "cell_type": "code",
     "collapsed": false,
     "input": [
      "a = LU()._times(luDecomp.ut, uInv)\n",
      "a.rdd = a.rdd.sortByKey()\n",
      "sum(sum(abs(a.collectValuesAsArray() - identity(400))))"
     ],
     "language": "python",
     "metadata": {},
     "outputs": [
      {
       "metadata": {},
       "output_type": "pyout",
       "prompt_number": 6,
       "text": [
        "1.601078385471996e-12"
       ]
      }
     ],
     "prompt_number": 6
    },
    {
     "cell_type": "code",
     "collapsed": false,
     "input": [
      "a = LU()._times(uInv, lInvT)\n",
      "g.transpose()\n",
      "b = LU()._times(g, a)\n",
      "b.collectValuesAsArray()"
     ],
     "language": "python",
     "metadata": {},
     "outputs": [
      {
       "metadata": {},
       "output_type": "pyout",
       "prompt_number": 72,
       "text": [
        "array([[ -4.37207236e+16,  -2.44367011e+16,   3.01092644e+16, ...,\n",
        "         -3.16602288e+16,  -3.07617036e+16,   7.33921379e+15],\n",
        "       [ -3.20198480e+16,  -1.73599118e+16,   2.32604512e+16, ...,\n",
        "         -2.27571845e+16,  -2.19011426e+16,  -4.24773159e+14],\n",
        "       [ -6.63710307e+16,  -3.30328696e+16,   4.12864669e+16, ...,\n",
        "         -4.06752431e+16,  -3.99384221e+16,   2.58270587e+15],\n",
        "       ..., \n",
        "       [ -5.15144068e+16,  -2.05828483e+16,   2.19611385e+16, ...,\n",
        "         -2.05407696e+16,  -2.08458959e+16,   6.09106281e+14],\n",
        "       [  9.04902596e+15,   9.71430415e+14,   6.15000062e+15, ...,\n",
        "         -6.33062769e+15,  -1.06884376e+16,   5.41000046e+15],\n",
        "       [ -1.21746242e+17,  -5.43321659e+16,   6.52360080e+16, ...,\n",
        "         -6.07747302e+16,  -6.17374554e+16,  -1.74459317e+15]])"
       ]
      }
     ],
     "prompt_number": 72
    },
    {
     "cell_type": "code",
     "collapsed": false,
     "input": [
      "p, l, u = lu(mediumCase.gramian())"
     ],
     "language": "python",
     "metadata": {},
     "outputs": [],
     "prompt_number": 15
    },
    {
     "cell_type": "code",
     "collapsed": false,
     "input": [],
     "language": "python",
     "metadata": {},
     "outputs": []
    }
   ],
   "metadata": {}
  }
 ]
}