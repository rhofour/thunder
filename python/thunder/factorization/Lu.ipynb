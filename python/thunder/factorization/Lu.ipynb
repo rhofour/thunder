{
 "metadata": {
  "name": "",
  "signature": "sha256:96153ae27f8611d57536a6cb004de8e5eab4b0602b40def621ca1504d5640e8a"
 },
 "nbformat": 3,
 "nbformat_minor": 0,
 "worksheets": [
  {
   "cells": [
    {
     "cell_type": "code",
     "collapsed": false,
     "input": [
      "from thunder import LU, RowMatrix\n",
      "from numpy import arange, cumsum, matrix, array, concatenate\n",
      "from scipy.linalg import lu\n",
      "from numpy.linalg import inv"
     ],
     "language": "python",
     "metadata": {},
     "outputs": [],
     "prompt_number": 1
    },
    {
     "cell_type": "code",
     "collapsed": false,
     "input": [
      "mediumCase = tsc.makeExample('factor', q=5, p=400, nrows=100)\n",
      "g2 = RowMatrix(sc.parallelize(enumerate(mediumCase.gramian(), 1)))\n",
      "res2, a1, a2, a3, a4, lup1, u2t, l2, lup2 = LU(nb=320).calc(g2)"
     ],
     "language": "python",
     "metadata": {},
     "outputs": [],
     "prompt_number": 2
    },
    {
     "cell_type": "code",
     "collapsed": false,
     "input": [
      "res2.ut.rdd = res2.ut.rdd.sortByKey()\n",
      "res2.ut.collectValuesAsArray()"
     ],
     "language": "python",
     "metadata": {},
     "outputs": [
      {
       "metadata": {},
       "output_type": "pyout",
       "prompt_number": 3,
       "text": [
        "array([[ -4.21368036e+02,   0.00000000e+00,   0.00000000e+00, ...,\n",
        "          0.00000000e+00,   0.00000000e+00,   0.00000000e+00],\n",
        "       [ -1.70712611e+02,   6.40750401e+02,   0.00000000e+00, ...,\n",
        "          0.00000000e+00,   0.00000000e+00,   0.00000000e+00],\n",
        "       [ -2.43345729e+02,  -1.77417420e+02,  -3.61750586e+02, ...,\n",
        "          0.00000000e+00,   0.00000000e+00,   0.00000000e+00],\n",
        "       ..., \n",
        "       [  1.64454812e+02,  -3.48891390e+02,   4.44124044e+02, ...,\n",
        "          6.07467860e-13,   0.00000000e+00,   0.00000000e+00],\n",
        "       [  1.11975630e+02,   1.12588150e+01,  -3.07537278e+02, ...,\n",
        "          1.48951088e-13,   1.59495198e-13,   0.00000000e+00],\n",
        "       [ -3.87290982e+02,  -4.13336934e+02,   2.51427074e+02, ...,\n",
        "          5.46216508e-13,   5.43537315e-13,   2.55604067e-13]])"
       ]
      }
     ],
     "prompt_number": 3
    },
    {
     "cell_type": "code",
     "collapsed": false,
     "input": [
      "lup1.ut.first()"
     ],
     "language": "python",
     "metadata": {},
     "outputs": [
      {
       "metadata": {},
       "output_type": "pyout",
       "prompt_number": 5,
       "text": [
        "(0, array([-421.36803564,    0.        ,    0.        ,    0.        ,\n",
        "           0.        ,    0.        ,    0.        ,    0.        ,\n",
        "           0.        ,    0.        ,    0.        ,    0.        ,\n",
        "           0.        ,    0.        ,    0.        ,    0.        ,\n",
        "           0.        ,    0.        ,    0.        ,    0.        ,\n",
        "           0.        ,    0.        ,    0.        ,    0.        ,\n",
        "           0.        ,    0.        ,    0.        ,    0.        ,\n",
        "           0.        ,    0.        ,    0.        ,    0.        ,\n",
        "           0.        ,    0.        ,    0.        ,    0.        ,\n",
        "           0.        ,    0.        ,    0.        ,    0.        ,\n",
        "           0.        ,    0.        ,    0.        ,    0.        ,\n",
        "           0.        ,    0.        ,    0.        ,    0.        ,\n",
        "           0.        ,    0.        ,    0.        ,    0.        ,\n",
        "           0.        ,    0.        ,    0.        ,    0.        ,\n",
        "           0.        ,    0.        ,    0.        ,    0.        ,\n",
        "           0.        ,    0.        ,    0.        ,    0.        ,\n",
        "           0.        ,    0.        ,    0.        ,    0.        ,\n",
        "           0.        ,    0.        ,    0.        ,    0.        ,\n",
        "           0.        ,    0.        ,    0.        ,    0.        ,\n",
        "           0.        ,    0.        ,    0.        ,    0.        ,\n",
        "           0.        ,    0.        ,    0.        ,    0.        ,\n",
        "           0.        ,    0.        ,    0.        ,    0.        ,\n",
        "           0.        ,    0.        ,    0.        ,    0.        ,\n",
        "           0.        ,    0.        ,    0.        ,    0.        ,\n",
        "           0.        ,    0.        ,    0.        ,    0.        ,\n",
        "           0.        ,    0.        ,    0.        ,    0.        ,\n",
        "           0.        ,    0.        ,    0.        ,    0.        ,\n",
        "           0.        ,    0.        ,    0.        ,    0.        ,\n",
        "           0.        ,    0.        ,    0.        ,    0.        ,\n",
        "           0.        ,    0.        ,    0.        ,    0.        ,\n",
        "           0.        ,    0.        ,    0.        ,    0.        ,\n",
        "           0.        ,    0.        ,    0.        ,    0.        ,\n",
        "           0.        ,    0.        ,    0.        ,    0.        ,\n",
        "           0.        ,    0.        ,    0.        ,    0.        ,\n",
        "           0.        ,    0.        ,    0.        ,    0.        ,\n",
        "           0.        ,    0.        ,    0.        ,    0.        ,\n",
        "           0.        ,    0.        ,    0.        ,    0.        ,\n",
        "           0.        ,    0.        ,    0.        ,    0.        ,\n",
        "           0.        ,    0.        ,    0.        ,    0.        ,\n",
        "           0.        ,    0.        ,    0.        ,    0.        ,\n",
        "           0.        ,    0.        ,    0.        ,    0.        ,\n",
        "           0.        ,    0.        ,    0.        ,    0.        ,\n",
        "           0.        ,    0.        ,    0.        ,    0.        ,\n",
        "           0.        ,    0.        ,    0.        ,    0.        ,\n",
        "           0.        ,    0.        ,    0.        ,    0.        ,\n",
        "           0.        ,    0.        ,    0.        ,    0.        ,\n",
        "           0.        ,    0.        ,    0.        ,    0.        ,\n",
        "           0.        ,    0.        ,    0.        ,    0.        ,\n",
        "           0.        ,    0.        ,    0.        ,    0.        ,\n",
        "           0.        ,    0.        ,    0.        ,    0.        ]))"
       ]
      }
     ],
     "prompt_number": 5
    },
    {
     "cell_type": "code",
     "collapsed": false,
     "input": [],
     "language": "python",
     "metadata": {},
     "outputs": []
    }
   ],
   "metadata": {}
  }
 ]
}