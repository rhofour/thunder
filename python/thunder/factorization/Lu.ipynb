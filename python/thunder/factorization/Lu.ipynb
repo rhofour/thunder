{
 "metadata": {
  "name": "",
  "signature": "sha256:52fc3c637e25e6f8d783ffaa626e0d82212bbd9aebada71c8701a16954a1bb10"
 },
 "nbformat": 3,
 "nbformat_minor": 0,
 "worksheets": [
  {
   "cells": [
    {
     "cell_type": "code",
     "collapsed": false,
     "input": [
      "from thunder import LU, RowMatrix\n",
      "from numpy import arange, cumsum, matrix, array\n",
      "from scipy.linalg import lu\n",
      "from numpy.linalg import inv"
     ],
     "language": "python",
     "metadata": {},
     "outputs": [],
     "prompt_number": 1
    },
    {
     "cell_type": "code",
     "collapsed": false,
     "input": [
      "a = matrix('0 1 2; 3 4 5; 6 7 8; 9 10 11')\n",
      "a * a.getT()"
     ],
     "language": "python",
     "metadata": {},
     "outputs": [
      {
       "metadata": {},
       "output_type": "pyout",
       "prompt_number": 2,
       "text": [
        "matrix([[  5,  14,  23,  32],\n",
        "        [ 14,  50,  86, 122],\n",
        "        [ 23,  86, 149, 212],\n",
        "        [ 32, 122, 212, 302]])"
       ]
      }
     ],
     "prompt_number": 2
    },
    {
     "cell_type": "code",
     "collapsed": false,
     "input": [
      "arm = RowMatrix(sc.parallelize([(i, array(a[i])) for i in xrange(4)]))\n",
      "x = LU()._times(arm, arm)\n",
      "x.collectValuesAsArray()"
     ],
     "language": "python",
     "metadata": {},
     "outputs": [
      {
       "metadata": {},
       "output_type": "pyout",
       "prompt_number": 3,
       "text": [
        "array([[   5.,   14.,   23.,   32.],\n",
        "       [  14.,   50.,   86.,  122.],\n",
        "       [  23.,   86.,  149.,  212.],\n",
        "       [  32.,  122.,  212.,  302.]])"
       ]
      }
     ],
     "prompt_number": 3
    },
    {
     "cell_type": "code",
     "collapsed": false,
     "input": [
      "mediumCase = tsc.makeExample('factor', q=5, p=400, nrows=100)\n",
      "g2 = RowMatrix(sc.parallelize(enumerate(mediumCase.gramian(), 1)))\n",
      "res2, a1, a2, a3, a4, lup1, u2t, l2p = LU(nb=320).calc(g2)"
     ],
     "language": "python",
     "metadata": {},
     "outputs": [],
     "prompt_number": 4
    },
    {
     "cell_type": "code",
     "collapsed": false,
     "input": [
      "u1t = lup1.ut.collectValuesAsArray()\n",
      "sum(sum(abs(l2p.collectValuesAsArray().dot(u1t.transpose()) - a3.collectValuesAsArray())))"
     ],
     "language": "python",
     "metadata": {},
     "outputs": [
      {
       "metadata": {},
       "output_type": "pyout",
       "prompt_number": 7,
       "text": [
        "1.1123560406112176e-11"
       ]
      }
     ],
     "prompt_number": 7
    },
    {
     "cell_type": "code",
     "collapsed": false,
     "input": [],
     "language": "python",
     "metadata": {},
     "outputs": []
    }
   ],
   "metadata": {}
  }
 ]
}