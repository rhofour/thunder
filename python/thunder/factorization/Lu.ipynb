{
 "metadata": {
  "name": "",
  "signature": "sha256:812741f202ea375fea85466b589cd7077d8b9e006a8abd42dfc76c8de55ae965"
 },
 "nbformat": 3,
 "nbformat_minor": 0,
 "worksheets": [
  {
   "cells": [
    {
     "cell_type": "code",
     "collapsed": false,
     "input": [
      "from thunder import LU, RowMatrix\n",
      "from numpy import array, matrix\n",
      "from scipy.linalg import lu\n",
      "from numpy.linalg import inv"
     ],
     "language": "python",
     "metadata": {},
     "outputs": [],
     "prompt_number": 1
    },
    {
     "cell_type": "code",
     "collapsed": false,
     "input": [
      "sigmas = array([0.01, 0.01, 0.1])\n",
      "smallCase = tsc.makeExample('fa', sigmas=sigmas)\n",
      "g1 = RowMatrix(sc.parallelize(enumerate(smallCase.gramian())))\n",
      "g1.collectValuesAsArray()"
     ],
     "language": "python",
     "metadata": {},
     "outputs": [
      {
       "metadata": {},
       "output_type": "pyout",
       "prompt_number": 2,
       "text": [
        "array([[  2.001835  ,   9.90944083,   0.57927477],\n",
        "       [  9.90944083,  49.17184962,   2.90192319],\n",
        "       [  0.57927477,   2.90192319,   0.68541731]])"
       ]
      }
     ],
     "prompt_number": 2
    },
    {
     "cell_type": "code",
     "collapsed": false,
     "input": [
      "res = LU().calc(g1)\n",
      "res.l.collectValuesAsArray()"
     ],
     "language": "python",
     "metadata": {},
     "outputs": [
      {
       "metadata": {},
       "output_type": "pyout",
       "prompt_number": 3,
       "text": [
        "array([[ 1.        ,  0.        ,  0.        ],\n",
        "       [ 0.05845686,  1.        ,  0.        ],\n",
        "       [ 0.20201291, -0.8696439 ,  1.        ]])"
       ]
      }
     ],
     "prompt_number": 3
    }
   ],
   "metadata": {}
  }
 ]
}