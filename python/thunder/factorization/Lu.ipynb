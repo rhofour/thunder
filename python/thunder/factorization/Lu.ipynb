{
 "metadata": {
  "name": "",
  "signature": "sha256:8ddc56a7c22f6f3150919f0b3d688c9f952f4145617c147cea565369967f987c"
 },
 "nbformat": 3,
 "nbformat_minor": 0,
 "worksheets": [
  {
   "cells": [
    {
     "cell_type": "code",
     "collapsed": false,
     "input": [
      "from thunder import LU, RowMatrix\n",
      "from numpy import arange, cumsum, matrix, array\n",
      "from scipy.linalg import lu\n",
      "from numpy.linalg import inv"
     ],
     "language": "python",
     "metadata": {},
     "outputs": [],
     "prompt_number": 1
    },
    {
     "cell_type": "code",
     "collapsed": false,
     "input": [
      "a = matrix('0 1 2; 3 4 5; 6 7 8')\n",
      "a - a.getT()"
     ],
     "language": "python",
     "metadata": {},
     "outputs": [
      {
       "metadata": {},
       "output_type": "pyout",
       "prompt_number": 2,
       "text": [
        "matrix([[ 0, -2, -4],\n",
        "        [ 2,  0, -2],\n",
        "        [ 4,  2,  0]])"
       ]
      }
     ],
     "prompt_number": 2
    },
    {
     "cell_type": "code",
     "collapsed": false,
     "input": [
      "arm = RowMatrix(sc.parallelize([(i, array(a[i])[0]) for i in xrange(3)]))\n",
      "LU()._minus(arm, arm.transpose()).collectValuesAsArray()"
     ],
     "language": "python",
     "metadata": {},
     "outputs": [
      {
       "metadata": {},
       "output_type": "pyout",
       "prompt_number": 18,
       "text": [
        "array([[ 0., -2., -4.],\n",
        "       [ 2.,  0., -2.],\n",
        "       [ 4.,  2.,  0.]])"
       ]
      }
     ],
     "prompt_number": 18
    },
    {
     "cell_type": "code",
     "collapsed": false,
     "input": [
      "mediumCase = tsc.makeExample('factor', q=5, p=400, nrows=100)\n",
      "g2 = RowMatrix(sc.parallelize(enumerate(mediumCase.gramian(), 1)))\n",
      "res2, a1, a2, a3, a4, lup1, u2t, l2p = LU(nb=320).calc(g2)"
     ],
     "language": "python",
     "metadata": {},
     "outputs": []
    },
    {
     "cell_type": "code",
     "collapsed": false,
     "input": [
      "u1t = lup1.ut.collectValuesAsArray()\n",
      "sum(sum(abs(l2p.collectValuesAsArray().dot(u1t.transpose()) - a3.collectValuesAsArray())))"
     ],
     "language": "python",
     "metadata": {},
     "outputs": []
    },
    {
     "cell_type": "code",
     "collapsed": false,
     "input": [],
     "language": "python",
     "metadata": {},
     "outputs": []
    }
   ],
   "metadata": {}
  }
 ]
}