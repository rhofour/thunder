{
 "metadata": {
  "name": "",
  "signature": "sha256:8bc165dd77625c7b5cb17639349a5efa7ec0e78125d94e70150725d01d574c00"
 },
 "nbformat": 3,
 "nbformat_minor": 0,
 "worksheets": [
  {
   "cells": [
    {
     "cell_type": "code",
     "collapsed": false,
     "input": [
      "from thunder import LU, RowMatrix\n",
      "from numpy import arange, cumsum, matrix\n",
      "from scipy.linalg import lu\n",
      "from numpy.linalg import inv"
     ],
     "language": "python",
     "metadata": {},
     "outputs": [],
     "prompt_number": 1
    },
    {
     "cell_type": "code",
     "collapsed": false,
     "input": [
      "mediumCase = tsc.makeExample('factor', q=5, p=400, nrows=100)\n",
      "g2 = RowMatrix(sc.parallelize(enumerate(mediumCase.gramian(), 42)))\n",
      "res2, a1, a2, a3, a4, lup1, u2t = LU(nb=320).calc(g2)"
     ],
     "language": "python",
     "metadata": {},
     "outputs": [],
     "prompt_number": 2
    },
    {
     "cell_type": "code",
     "collapsed": false,
     "input": [
      "u2t.collectValuesAsArray()"
     ],
     "language": "python",
     "metadata": {},
     "outputs": [
      {
       "metadata": {},
       "output_type": "pyout",
       "prompt_number": 3,
       "text": [
        "array([[ 189.38576253,    7.43904667, -194.12032701, ...,   -5.94318297,\n",
        "           8.82696764,  -10.6506739 ],\n",
        "       [ 315.88916599,  -46.92605272, -399.3235764 , ...,   -5.94318297,\n",
        "           8.82696764,  -10.6506739 ],\n",
        "       [ -36.63189576,  263.43470181, -224.37950086, ...,   -5.94318297,\n",
        "           8.82696764,  -10.6506739 ],\n",
        "       ..., \n",
        "       [  55.12795706,   26.5281174 ,   86.57725022, ...,   -5.94318297,\n",
        "           8.82696764,  -10.6506739 ],\n",
        "       [ -41.61686626,  -83.47681391,   79.53078689, ...,   -5.94318297,\n",
        "           8.82696764,  -10.6506739 ],\n",
        "       [ 103.25742028,  330.54832016,   -7.8785289 , ...,   -5.94318297,\n",
        "           8.82696764,  -10.6506739 ]])"
       ]
      }
     ],
     "prompt_number": 3
    },
    {
     "cell_type": "code",
     "collapsed": false,
     "input": [],
     "language": "python",
     "metadata": {},
     "outputs": [],
     "prompt_number": 3
    }
   ],
   "metadata": {}
  }
 ]
}