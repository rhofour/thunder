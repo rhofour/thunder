{
 "metadata": {
  "name": "",
  "signature": "sha256:9fb7e44a8f7e78d83d290a8ca79a325cbd7c3651165f637b0a1e203ab64d459b"
 },
 "nbformat": 3,
 "nbformat_minor": 0,
 "worksheets": [
  {
   "cells": [
    {
     "cell_type": "code",
     "collapsed": false,
     "input": [
      "from thunder import LU, RowMatrix\n",
      "from numpy import array, cumsum, matrix\n",
      "from scipy.linalg import lu\n",
      "from numpy.linalg import inv"
     ],
     "language": "python",
     "metadata": {},
     "outputs": [],
     "prompt_number": 1
    },
    {
     "cell_type": "code",
     "collapsed": false,
     "input": [
      "sigmas = array([0.01, 0.01, 0.1])\n",
      "smallCase = tsc.makeExample('fa', sigmas=sigmas)\n",
      "g1 = RowMatrix(sc.parallelize(enumerate(smallCase.gramian())))\n",
      "g1.collectValuesAsArray()"
     ],
     "language": "python",
     "metadata": {},
     "outputs": [
      {
       "metadata": {},
       "output_type": "pyout",
       "prompt_number": 2,
       "text": [
        "array([[  1.81597312,   5.53862834,   3.80261578],\n",
        "       [  5.53862834,  16.94126268,  11.66539752],\n",
        "       [  3.80261578,  11.66539752,   8.47247848]])"
       ]
      }
     ],
     "prompt_number": 2
    },
    {
     "cell_type": "code",
     "collapsed": false,
     "input": [
      "res = LU().calc(g1)\n",
      "res.l.collectValuesAsArray()"
     ],
     "language": "python",
     "metadata": {},
     "outputs": [
      {
       "metadata": {},
       "output_type": "pyout",
       "prompt_number": 3,
       "text": [
        "array([[ 1.        ,  0.        ,  0.        ],\n",
        "       [ 0.68656273,  1.        ,  0.        ],\n",
        "       [ 0.32787416, -0.46764857,  1.        ]])"
       ]
      }
     ],
     "prompt_number": 3
    },
    {
     "cell_type": "code",
     "collapsed": false,
     "input": [
      "mediumCase = tsc.makeExample('fa', q=5, p=400, nrows=100)\n",
      "g2 = RowMatrix(sc.parallelize(enumerate(mediumCase.gramian(), 42)))\n",
      "res = LU(nb=320).calc(g2)"
     ],
     "language": "python",
     "metadata": {},
     "outputs": [],
     "prompt_number": 7
    },
    {
     "cell_type": "code",
     "collapsed": false,
     "input": [
      "def f(x): yield sum(1 for _ in x)\n",
      "x = g2.rdd.mapPartitions(f).collect()\n",
      "x.insert(0,0)\n",
      "b = sc.broadcast(cumsum(x)[0:-1])\n",
      "def replaceKeys(index, iterator):\n",
      "    i = b.value[index]\n",
      "    yield ((i, x) for _, x in iterator)\n",
      "def simple(index, iterator):\n",
      "    i = b.value[index]\n",
      "    for k, x in iterator:\n",
      "        yield i, x\n",
      "        i += 1\n",
      "x = g2.rdd.mapPartitionsWithIndex(simple)\n",
      "y = g2.keysToIndices()\n",
      "x.keys().collect() == y.keys().collect()"
     ],
     "language": "python",
     "metadata": {},
     "outputs": [
      {
       "metadata": {},
       "output_type": "pyout",
       "prompt_number": 11,
       "text": [
        "True"
       ]
      }
     ],
     "prompt_number": 11
    },
    {
     "cell_type": "code",
     "collapsed": false,
     "input": [],
     "language": "python",
     "metadata": {},
     "outputs": []
    }
   ],
   "metadata": {}
  }
 ]
}