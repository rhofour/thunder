{
 "metadata": {
  "name": "",
  "signature": "sha256:9c4c840f0f5796551b0e7f8428b3a0c213656091d7b5a49d80d914d4a85364be"
 },
 "nbformat": 3,
 "nbformat_minor": 0,
 "worksheets": [
  {
   "cells": [
    {
     "cell_type": "code",
     "collapsed": false,
     "input": [
      "from thunder import LU, RowMatrix\n",
      "from numpy import arange, cumsum, matrix, array\n",
      "from scipy.linalg import lu\n",
      "from numpy.linalg import inv"
     ],
     "language": "python",
     "metadata": {},
     "outputs": [],
     "prompt_number": 1
    },
    {
     "cell_type": "code",
     "collapsed": false,
     "input": [
      "mediumCase = tsc.makeExample('factor', q=5, p=400, nrows=100)\n",
      "g2 = RowMatrix(sc.parallelize(enumerate(mediumCase.gramian(), 1)))\n",
      "res2, a1, a2, a3, a4, lup1, u2t, l2, lup2 = LU(nb=320).calc(g2)"
     ],
     "language": "python",
     "metadata": {},
     "outputs": [],
     "prompt_number": 4
    },
    {
     "cell_type": "code",
     "collapsed": false,
     "input": [
      "l2.collectValuesAsArray()"
     ],
     "language": "python",
     "metadata": {},
     "outputs": [
      {
       "metadata": {},
       "output_type": "pyout",
       "prompt_number": 8,
       "text": [
        "array([[  2.89193905e-01,   3.96783505e-01,  -1.03926782e-01, ...,\n",
        "         -2.05019073e+00,  -4.16913648e+00,  -8.98459393e+01],\n",
        "       [ -4.69850433e-01,  -2.13267925e-01,   2.02502088e-01, ...,\n",
        "          5.67219435e+00,  -1.75542589e+00,  -1.58551658e+01],\n",
        "       [  1.62030843e-01,  -8.46361985e-02,  -7.00794012e-02, ...,\n",
        "          2.59690826e+00,  -2.30399647e+00,  -5.28505526e+01],\n",
        "       ..., \n",
        "       [ -4.87130711e-01,   3.79678407e-02,  -3.64000175e-01, ...,\n",
        "         -9.02083921e+00,  -1.51559768e+01,  -2.81759508e+02],\n",
        "       [ -1.56476656e-01,   1.86153933e-01,   1.19322129e-01, ...,\n",
        "          2.73358764e+00,  -8.77712943e-01,   1.84976934e+02],\n",
        "       [  1.13105666e+00,   7.95017306e-01,  -4.13540887e-02, ...,\n",
        "          8.74748044e+00,  -9.01027193e+00,  -6.87057183e+01]])"
       ]
      }
     ],
     "prompt_number": 8
    },
    {
     "cell_type": "code",
     "collapsed": false,
     "input": [],
     "language": "python",
     "metadata": {},
     "outputs": []
    }
   ],
   "metadata": {}
  }
 ]
}