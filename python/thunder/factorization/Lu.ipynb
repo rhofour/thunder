{
 "metadata": {
  "name": "",
  "signature": "sha256:2ded52b780a0ebd9c251254d26e991be2c2c7383a6a7e3100c20b47e2fb9ea7f"
 },
 "nbformat": 3,
 "nbformat_minor": 0,
 "worksheets": [
  {
   "cells": [
    {
     "cell_type": "code",
     "collapsed": false,
     "input": [
      "from thunder import LU, RowMatrix\n",
      "from numpy import arange, cumsum, matrix, array, concatenate, take\n",
      "from scipy.linalg import lu\n",
      "from numpy.linalg import inv"
     ],
     "language": "python",
     "metadata": {},
     "outputs": [],
     "prompt_number": 1
    },
    {
     "cell_type": "code",
     "collapsed": false,
     "input": [
      "x = RowMatrix(sc.parallelize(enumerate([[3, 2, 1], [8, 3, 3], [2, 4, 8]])))\n",
      "x.collect()"
     ],
     "language": "python",
     "metadata": {},
     "outputs": [
      {
       "metadata": {},
       "output_type": "pyout",
       "prompt_number": 2,
       "text": [
        "[(0, [3, 2, 1]), (1, [8, 3, 3]), (2, [2, 4, 8])]"
       ]
      }
     ],
     "prompt_number": 2
    },
    {
     "cell_type": "code",
     "collapsed": false,
     "input": [
      "xInv = x.inverse()"
     ],
     "language": "python",
     "metadata": {},
     "outputs": [],
     "prompt_number": 3
    },
    {
     "cell_type": "code",
     "collapsed": false,
     "input": [
      "test = x.collectValuesAsArray().dot(xInv.collectValuesAsArray())\n",
      "test"
     ],
     "language": "python",
     "metadata": {},
     "outputs": [
      {
       "metadata": {},
       "output_type": "pyout",
       "prompt_number": 4,
       "text": [
        "array([[  1.00000000e+00,   8.32667268e-17,   1.38777878e-16],\n",
        "       [  0.00000000e+00,   1.00000000e+00,   1.11022302e-16],\n",
        "       [  0.00000000e+00,   0.00000000e+00,   1.00000000e+00]])"
       ]
      }
     ],
     "prompt_number": 4
    },
    {
     "cell_type": "code",
     "collapsed": false,
     "input": [
      "luDecomp = LU().calc(x)\n",
      "luDecomp.p"
     ],
     "language": "python",
     "metadata": {},
     "outputs": [
      {
       "metadata": {},
       "output_type": "pyout",
       "prompt_number": 5,
       "text": [
        "array([2, 0, 1])"
       ]
      }
     ],
     "prompt_number": 5
    },
    {
     "cell_type": "code",
     "collapsed": false,
     "input": [
      "LU()._permuteCols(luDecomp.p, x).collect()"
     ],
     "language": "python",
     "metadata": {},
     "outputs": [
      {
       "metadata": {},
       "output_type": "pyout",
       "prompt_number": 7,
       "text": [
        "[(0, array([1, 3, 2])), (1, array([3, 8, 3])), (2, array([8, 2, 4]))]"
       ]
      }
     ],
     "prompt_number": 7
    },
    {
     "cell_type": "code",
     "collapsed": false,
     "input": [],
     "language": "python",
     "metadata": {},
     "outputs": []
    }
   ],
   "metadata": {}
  }
 ]
}