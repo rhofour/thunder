{
 "metadata": {
  "name": "",
  "signature": "sha256:45f510d0fdf95227c27db167d687ac72f90e8a578c80502c6c6528f91b1891f0"
 },
 "nbformat": 3,
 "nbformat_minor": 0,
 "worksheets": [
  {
   "cells": [
    {
     "cell_type": "code",
     "collapsed": false,
     "input": [
      "from thunder import LU, RowMatrix\n",
      "from numpy import cumsum, matrix\n",
      "from scipy.linalg import lu\n",
      "from numpy.linalg import inv"
     ],
     "language": "python",
     "metadata": {},
     "outputs": [],
     "prompt_number": 1
    },
    {
     "cell_type": "code",
     "collapsed": false,
     "input": [
      "smallCase = tsc.makeExample('factor')\n",
      "g1 = RowMatrix(sc.parallelize(enumerate(smallCase.gramian())))\n",
      "g1.collectValuesAsArray()"
     ],
     "language": "python",
     "metadata": {},
     "outputs": [
      {
       "metadata": {},
       "output_type": "pyout",
       "prompt_number": 3,
       "text": [
        "array([[  1.33422783e+00,   4.96772473e-02,  -7.06891166e-01],\n",
        "       [  4.96772473e-02,   2.56811745e+00,  -1.48020237e+01],\n",
        "       [ -7.06891166e-01,  -1.48020237e+01,   1.92404575e+02]])"
       ]
      }
     ],
     "prompt_number": 3
    },
    {
     "cell_type": "code",
     "collapsed": false,
     "input": [
      "res = LU().calc(g1)\n",
      "res.l.collectValuesAsArray()"
     ],
     "language": "python",
     "metadata": {},
     "outputs": [
      {
       "metadata": {},
       "output_type": "pyout",
       "prompt_number": 4,
       "text": [
        "array([[ 1.        ,  0.        ,  0.        ],\n",
        "       [-0.52981294,  1.        ,  0.        ],\n",
        "       [ 0.03723296, -0.17368159,  1.        ]])"
       ]
      }
     ],
     "prompt_number": 4
    },
    {
     "cell_type": "code",
     "collapsed": false,
     "input": [
      "mediumCase = tsc.makeExample('factor', q=5, p=400, nrows=100)\n",
      "g2 = RowMatrix(sc.parallelize(enumerate(mediumCase.gramian(), 42)))\n",
      "res, a1 = LU(nb=320).calc(g2)\n",
      "res2 = LU(nb=320).calc(a1)\n",
      "res2.l"
     ],
     "language": "python",
     "metadata": {},
     "outputs": [
      {
       "metadata": {},
       "output_type": "pyout",
       "prompt_number": 6,
       "text": [
        "RowMatrix\n",
        "nrecords: None (inspect to compute)\n",
        "dtype: None (inspect to compute)\n",
        "dims: None (inspect to compute)\n",
        "index: None (inspect to compute)\n",
        "ncols: None (inspect to compute)\n",
        "nrows: None (inspect to compute)"
       ]
      }
     ],
     "prompt_number": 6
    },
    {
     "cell_type": "code",
     "collapsed": false,
     "input": [],
     "language": "python",
     "metadata": {},
     "outputs": []
    }
   ],
   "metadata": {}
  }
 ]
}