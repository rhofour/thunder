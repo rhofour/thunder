{
 "metadata": {
  "name": "",
  "signature": "sha256:e175feb74f1eb797604889ea39e30477beea5dc24b065044c48907480f6d4b2c"
 },
 "nbformat": 3,
 "nbformat_minor": 0,
 "worksheets": [
  {
   "cells": [
    {
     "cell_type": "code",
     "collapsed": false,
     "input": [
      "from thunder import PCA, RegressionModel\n",
      "from numpy import array, matrix\n",
      "from scipy.linalg import lu\n",
      "from numpy.linalg import inv"
     ],
     "language": "python",
     "metadata": {},
     "outputs": [],
     "prompt_number": 1
    },
    {
     "cell_type": "code",
     "collapsed": false,
     "input": [
      "sigmas = array([0.01, 0.01, 0.1])\n",
      "smallCase = tsc.makeExample('fa', sigmas=sigmas)\n",
      "g1 = matrix(smallCase.gramian(), copy=False)\n",
      "g1"
     ],
     "language": "python",
     "metadata": {},
     "outputs": [
      {
       "metadata": {},
       "output_type": "pyout",
       "prompt_number": 6,
       "text": [
        "matrix([[ 195.82114272,   24.74733535,   -1.61992957],\n",
        "        [  24.74733535,    3.13386879,   -0.21047714],\n",
        "        [  -1.61992957,   -0.21047714,    0.55469485]])"
       ]
      }
     ],
     "prompt_number": 6
    },
    {
     "cell_type": "code",
     "collapsed": false,
     "input": [
      "(p, l, u) = lu(g1)\n",
      "p = matrix(p, copy=False)\n",
      "l = matrix(l, copy=False)\n",
      "u = matrix(u, copy=False)\n",
      "g1Inv = matrix(inv(u) * inv(l) * p, copy=False)\n",
      "g1Inv"
     ],
     "language": "python",
     "metadata": {},
     "outputs": [
      {
       "metadata": {},
       "output_type": "pyout",
       "prompt_number": 7,
       "text": [
        "matrix([[   2.53373295,  -20.02149086,   -0.19758104],\n",
        "        [ -20.02149086,  158.53673118,    1.68552585],\n",
        "        [  -0.19758104,    1.68552585,    1.86534502]])"
       ]
      }
     ],
     "prompt_number": 7
    },
    {
     "cell_type": "code",
     "collapsed": false,
     "input": [
      "inv(g1)"
     ],
     "language": "python",
     "metadata": {},
     "outputs": [
      {
       "metadata": {},
       "output_type": "pyout",
       "prompt_number": 8,
       "text": [
        "matrix([[   2.53373295,  -20.02149086,   -0.19758104],\n",
        "        [ -20.02149086,  158.53673118,    1.68552585],\n",
        "        [  -0.19758104,    1.68552585,    1.86534502]])"
       ]
      }
     ],
     "prompt_number": 8
    },
    {
     "cell_type": "code",
     "collapsed": false,
     "input": [
      "g1*g1Inv"
     ],
     "language": "python",
     "metadata": {},
     "outputs": [
      {
       "metadata": {},
       "output_type": "pyout",
       "prompt_number": 9,
       "text": [
        "matrix([[  1.00000000e+00,   3.24629212e-13,   3.10862447e-15],\n",
        "        [  3.29597460e-15,   1.00000000e+00,  -2.22044605e-16],\n",
        "        [ -3.46944695e-16,   5.66213743e-15,   1.00000000e+00]])"
       ]
      }
     ],
     "prompt_number": 9
    },
    {
     "cell_type": "code",
     "collapsed": false,
     "input": [],
     "language": "python",
     "metadata": {},
     "outputs": []
    }
   ],
   "metadata": {}
  }
 ]
}